{
 "cells": [
  {
   "cell_type": "code",
   "execution_count": 1,
   "metadata": {},
   "outputs": [],
   "source": [
    "# INDEX\n",
    "\n",
    "# 1. Variables\n",
    "# 2. Strings\n",
    "# 3. List\n",
    "# 4. Tuple\n",
    "# 5. Sets\n",
    "# 6. Dictionary\n",
    "# 7. Functions\n",
    "# 8. Lambda Functions\n",
    "# 9. Conditionals\n",
    "# 10. Loops\n",
    "# 11. Modules\n",
    "# 12. Classes\n",
    "# 13. Files\n",
    "# 14. JSON\n",
    "# 15. Exception Handling"
   ]
  },
  {
   "cell_type": "code",
   "execution_count": 9,
   "metadata": {},
   "outputs": [],
   "source": [
    "#1. Variables"
   ]
  },
  {
   "cell_type": "code",
   "execution_count": 1,
   "metadata": {},
   "outputs": [
    {
     "name": "stdout",
     "output_type": "stream",
     "text": [
      "<class 'float'> 2.0\n"
     ]
    }
   ],
   "source": [
    "x = 1           # int\n",
    "y = 2.5         # float\n",
    "name = 'Anant'   # str\n",
    "is_cool = True  # bool\n",
    "\n",
    "# Multiple assignment\n",
    "x, y, name, is_cool = (1, 2.5, 'Anant', True)\n",
    "\n",
    "# Basic math\n",
    "a = x + y\n",
    "\n",
    "# Casting\n",
    "x = str(x)\n",
    "y = int(y)\n",
    "z = float(y)\n",
    "\n",
    "print(type(z), z)"
   ]
  },
  {
   "cell_type": "code",
   "execution_count": 11,
   "metadata": {},
   "outputs": [],
   "source": [
    "# 2. Strings\n",
    "# - format"
   ]
  },
  {
   "cell_type": "code",
   "execution_count": 3,
   "metadata": {},
   "outputs": [
    {
     "name": "stdout",
     "output_type": "stream",
     "text": [
      "str2\n",
      "hi. My name is anant and I am 21\n",
      "hi. My name is anant and I am 21\n"
     ]
    }
   ],
   "source": [
    "print('str'+str(y))\n",
    "name='anant'\n",
    "age=21\n",
    "print('hi. My name is {name} and I am {age}'.format(name=name,age=age))\n",
    "print(f'hi. My name is {name} and I am {age}')"
   ]
  },
  {
   "cell_type": "code",
   "execution_count": 25,
   "metadata": {},
   "outputs": [
    {
     "name": "stdout",
     "output_type": "stream",
     "text": [
      "Anant\n",
      "ANANT\n",
      "anant\n",
      "ANANT\n",
      "5\n",
      "anu\n",
      "2\n",
      "False\n",
      "True\n",
      "['anant']\n",
      "1\n",
      "True\n",
      "True\n",
      "False\n"
     ]
    }
   ],
   "source": [
    "print(name.capitalize())\n",
    "print(name.upper())\n",
    "print(name.lower())\n",
    "print(name.swapcase())\n",
    "print(len(name))\n",
    "print(name.replace('anant','anu'))\n",
    "print(name.count('a'))\n",
    "print(name.startswith('hello'))\n",
    "print(name.endswith('t'))\n",
    "print(name.split())\n",
    "print(name.find('n'))\n",
    "print(name.isalnum())\n",
    "print(name.isalpha())\n",
    "print(name.isnumeric())"
   ]
  },
  {
   "cell_type": "code",
   "execution_count": 26,
   "metadata": {},
   "outputs": [],
   "source": [
    "#3. List"
   ]
  },
  {
   "cell_type": "code",
   "execution_count": 10,
   "metadata": {},
   "outputs": [
    {
     "name": "stdout",
     "output_type": "stream",
     "text": [
      "1\n",
      "2\n",
      "3\n",
      "4\n",
      "5\n",
      "Apples\n",
      "Oranges\n",
      "Grapes\n",
      "Pears\n",
      "Oranges\n",
      "4\n",
      "['Pears', 'Oranges', 'Mangos', 'Blueberries']\n"
     ]
    }
   ],
   "source": [
    "# Create list\n",
    "numbers = [1, 2, 3, 4, 5]\n",
    "\n",
    "fruits = ['Apples', 'Oranges', 'Grapes', 'Pears']\n",
    "\n",
    "for fruit in fruits:\n",
    "    print(fruit)\n",
    "\n",
    "\n",
    "# Use a constructor\n",
    "numbers2 = list((1, 2, 3, 4, 5))\n",
    "\n",
    "# Get a value\n",
    "print(fruits[1])\n",
    "\n",
    "# Get length\n",
    "print(len(fruits))\n",
    "\n",
    "# Append to list\n",
    "fruits.append('Mangos')\n",
    "\n",
    "# Remove from list\n",
    "fruits.remove('Grapes')\n",
    "\n",
    "# Insert into position\n",
    "fruits.insert(2, 'Strawberries')\n",
    "\n",
    "# Change value\n",
    "fruits[0] = 'Blueberries'\n",
    "\n",
    "# Remove with pop\n",
    "fruits.pop(2)\n",
    "\n",
    "# Reverse list\n",
    "fruits.reverse()\n",
    "\n",
    "# Sort list\n",
    "fruits.sort()\n",
    "\n",
    "# Reverse sort\n",
    "fruits.sort(reverse=True)\n",
    "\n",
    "print(fruits)"
   ]
  },
  {
   "cell_type": "code",
   "execution_count": 40,
   "metadata": {},
   "outputs": [],
   "source": [
    "# 4. Tuple"
   ]
  },
  {
   "cell_type": "code",
   "execution_count": 12,
   "metadata": {},
   "outputs": [
    {
     "name": "stdout",
     "output_type": "stream",
     "text": [
      "Oranges\n",
      "3\n",
      "100\n",
      "2\n",
      "3\n",
      "4\n",
      "5\n"
     ]
    }
   ],
   "source": [
    "# A Tuple is a collection which is ordered and unchangeable. Allows duplicate members.\n",
    "\n",
    "# Create tuple\n",
    "fruits = ('Apples', 'Oranges', 'Grapes')\n",
    "\n",
    "# Using a constructor\n",
    "fruits2 = tuple(('Apples', 'Oranges', 'Grapes'))\n",
    "\n",
    "# Single value needs trailing comma\n",
    "fruits2 = ('Apples',)\n",
    "\n",
    "# Get value\n",
    "print(fruits[1])\n",
    "\n",
    "# Can't change value\n",
    "# fruits[0] = 'Pears'\n",
    "\n",
    "# Delete tuple\n",
    "del fruits2\n",
    "\n",
    "# Get length\n",
    "print(len(fruits))\n",
    "\n",
    "# Range -  Immutable\n",
    "x = range(1,6)  \n",
    "x = list(x)\n",
    "x[0]=100\n",
    "for i in x:\n",
    "    print(i)"
   ]
  },
  {
   "cell_type": "code",
   "execution_count": 37,
   "metadata": {},
   "outputs": [],
   "source": [
    "# 5. Sets"
   ]
  },
  {
   "cell_type": "code",
   "execution_count": 42,
   "metadata": {},
   "outputs": [
    {
     "name": "stdout",
     "output_type": "stream",
     "text": [
      "True\n",
      "{'Oranges', 'Mango', 'Apples'}\n"
     ]
    }
   ],
   "source": [
    "# A Set is a collection which is unordered and unindexed. \n",
    "# No duplicate members.\n",
    "\n",
    "# Create set\n",
    "fruits_set = {'Apples', 'Oranges', 'Mango'}\n",
    "\n",
    "# Check if in set\n",
    "print('Apples' in fruits_set)\n",
    "\n",
    "# Add to set\n",
    "fruits_set.add('Grape')\n",
    "\n",
    "# Remove from set\n",
    "fruits_set.remove('Grape')\n",
    "\n",
    "# Add duplicate\n",
    "fruits_set.add('Apples')\n",
    "\n",
    "# Clear set\n",
    "# fruits_set.clear()\n",
    "\n",
    "# Delete\n",
    "# del fruits_set\n",
    "\n",
    "print(fruits_set)\n",
    "\n"
   ]
  },
  {
   "cell_type": "code",
   "execution_count": 43,
   "metadata": {},
   "outputs": [],
   "source": [
    "# 6. Dictionary"
   ]
  },
  {
   "cell_type": "code",
   "execution_count": 5,
   "metadata": {},
   "outputs": [
    {
     "name": "stdout",
     "output_type": "stream",
     "text": [
      "Anu\n",
      "Rung\n",
      "dict_keys(['first_name', 'last_name', 'age', 'phone'])\n",
      "dict_items([('first_name', 'Anu'), ('last_name', 'Rung'), ('age', 20), ('phone', '123-456-789')])\n",
      "5\n",
      "B\n"
     ]
    }
   ],
   "source": [
    "# A Dictionary is a collection which is unordered, changeable and indexed. No duplicate members.\n",
    "\n",
    "# Create dict\n",
    "person = {\n",
    "    'first_name': 'Anu',\n",
    "    'last_name': 'Rung',\n",
    "    'age': 20\n",
    "}\n",
    "\n",
    "# Use constructor\n",
    "# person2 = dict(first_name='Anant', last_name='Rungta')\n",
    "\n",
    "# Get value\n",
    "print(person['first_name'])\n",
    "print(person.get('last_name'))\n",
    "\n",
    "# Add key/value\n",
    "person['phone'] = '123-456-789'\n",
    "\n",
    "# Get dict keys\n",
    "print(person.keys())\n",
    "\n",
    "# Get dict items\n",
    "print(person.items())\n",
    "\n",
    "# Copy dict\n",
    "person2 = person.copy()\n",
    "person2['city'] = 'Delhi'\n",
    "\n",
    "# Remove item\n",
    "del(person['age'])\n",
    "person.pop('phone')\n",
    "\n",
    "# Clear\n",
    "person.clear()\n",
    "\n",
    "# Get length\n",
    "print(len(person2))\n",
    "\n",
    "# List of dict\n",
    "people = [\n",
    "    {'name': 'A', 'age': 10},\n",
    "    {'name': 'B', 'age': 20}\n",
    "]\n",
    "\n",
    "print(people[1]['name'])"
   ]
  },
  {
   "cell_type": "code",
   "execution_count": 13,
   "metadata": {},
   "outputs": [],
   "source": [
    "# 7. Functions\n",
    "# - call  by ref only\n",
    "# - but since integers are immutable it  creates a copy and it looks like call by value, but it's actually call by ref only\n",
    "# *args - for multiple variable length arguments"
   ]
  },
  {
   "cell_type": "code",
   "execution_count": 17,
   "metadata": {},
   "outputs": [
    {
     "name": "stdout",
     "output_type": "stream",
     "text": [
      "Hello Sam\n",
      "3.1\n",
      "a\n",
      "b\n",
      "c\n",
      "d\n",
      "a : b\n",
      "c : d\n"
     ]
    }
   ],
   "source": [
    "def sayHello(name='Sam'):\n",
    "    print(f'Hello {name}')\n",
    "\n",
    "# Return values\n",
    "def getSum(num1, num2):\n",
    "    total = num1 + num2\n",
    "    return total\n",
    "\n",
    "sayHello()\n",
    "print(getSum(1,2.1))\n",
    "\n",
    "def main():\n",
    "    message('a','b')\n",
    "    x=('c','d')\n",
    "    message(*x)\n",
    "    \n",
    "    y=dict(a = 'b', c = 'd')\n",
    "    kitten(**y)\n",
    "    \n",
    "def message(*args):\n",
    "    if(len(args)):\n",
    "        for s in args: print(s)\n",
    "\n",
    "def kitten(**kwargs):\n",
    "    if(len(kwargs)):\n",
    "        for k in kwargs: print(f'{k} : {kwargs[k]}')\n",
    "            \n",
    "if __name__== '__main__': main()"
   ]
  },
  {
   "cell_type": "code",
   "execution_count": 48,
   "metadata": {},
   "outputs": [],
   "source": [
    "# 8. Lambda Functions"
   ]
  },
  {
   "cell_type": "code",
   "execution_count": 49,
   "metadata": {},
   "outputs": [
    {
     "name": "stdout",
     "output_type": "stream",
     "text": [
      "13\n"
     ]
    }
   ],
   "source": [
    "# A lambda function is a small anonymous function.\n",
    "# A lambda function can take any number of arguments, but can only have one expression. Very similar to JS arrow functions\n",
    "\n",
    "getSum = lambda num1, num2: num1 + num2\n",
    "\n",
    "print(getSum(10, 3))"
   ]
  },
  {
   "cell_type": "code",
   "execution_count": 50,
   "metadata": {},
   "outputs": [],
   "source": [
    "# 9. Conditionals"
   ]
  },
  {
   "cell_type": "code",
   "execution_count": 5,
   "metadata": {},
   "outputs": [
    {
     "name": "stdout",
     "output_type": "stream",
     "text": [
      "21 is greater than 20\n",
      "21 is greater than 20\n",
      "21 is greater than 20\n",
      "21 is greater than 2 or less than or equal to 10\n",
      "21 is not equal to 20\n",
      "False\n",
      "True\n",
      "True\n"
     ]
    }
   ],
   "source": [
    "x = 21\n",
    "y = 20\n",
    "\n",
    "# 1. Comparison Operators (==, !=, >, <, >=, <=) - Used to compare values\n",
    "\n",
    "# Simple if\n",
    "if x > y:\n",
    "    print(f'{x} is greater than {y}')\n",
    "\n",
    "# If/else\n",
    "if x > y:\n",
    "    print(f'{x} is greater than {y}')\n",
    "else:\n",
    "    print(f'{y} is greater than {x}')  \n",
    "\n",
    "# elif\n",
    "if x > y:\n",
    "    print(f'{x} is greater than {y}')\n",
    "elif x == y:\n",
    "    print(f'{x} is equal to {y}')  \n",
    "else:\n",
    "    print(f'{y} is greater than {x}')  \n",
    "\n",
    "# Nested if\n",
    "if x > 2:\n",
    "    if x <= 10:\n",
    "        print(f'{x} is greater than 2 and less than or equal to 10')\n",
    "    \n",
    "\n",
    "# 2. Logical operators (and, or, not) - Used to combine conditional statements\n",
    "\n",
    "# and\n",
    "if x > 2 and x <= 10:\n",
    "    print(f'{x} is greater than 2 and less than or equal to 10')\n",
    "\n",
    "# or\n",
    "if x > 2 or x <= 10:\n",
    "    print(f'{x} is greater than 2 or less than or equal to 10')\n",
    "\n",
    "# not\n",
    "if not(x == y):\n",
    "    print(f'{x} is not equal to {y}')\n",
    "\n",
    "\n",
    "# 3. Membership Operators (not, not in) - Membership operators are used to test if a sequence is presented in an object\n",
    "\n",
    "numbers = [1,2,3,4,5]\n",
    "\n",
    "#  in\n",
    "if 3 in numbers:\n",
    "    print(x in numbers)\n",
    "\n",
    "# not in\n",
    "if x not in numbers:\n",
    "    print(x not in numbers)\n",
    "\n",
    "# 4. Identity Operators (is, is not) - Compare the objects, not if they are equal, but if they are actually the same object, with the same memory location:\n",
    "\n",
    "# is\n",
    "if x is y:\n",
    "    print(x is y)\n",
    "\n",
    "# is not\n",
    "if x is not y:\n",
    "    print(x is not y)"
   ]
  },
  {
   "cell_type": "code",
   "execution_count": 54,
   "metadata": {},
   "outputs": [],
   "source": [
    "# 10. Loops"
   ]
  },
  {
   "cell_type": "code",
   "execution_count": 4,
   "metadata": {},
   "outputs": [
    {
     "name": "stdout",
     "output_type": "stream",
     "text": [
      "Current Person: John\n",
      "Current Person: Paul\n",
      "Current Person: Sara\n",
      "Current Person: Susan\n",
      "Current Person: John\n",
      "Current Person: Paul\n",
      "Current Person: John\n",
      "Current Person: Paul\n",
      "Current Person: Susan\n",
      "John\n",
      "Paul\n",
      "Sara\n",
      "Susan\n",
      "Number: 0\n",
      "Number: 1\n",
      "Number: 2\n",
      "Number: 3\n",
      "Number: 4\n",
      "Number: 5\n",
      "Number: 6\n",
      "Number: 7\n",
      "Number: 8\n",
      "Number: 9\n",
      "Number: 10\n",
      "Count: 0\n",
      "Count: 1\n",
      "Count: 2\n",
      "Count: 3\n",
      "Count: 4\n",
      "Count: 5\n",
      "Count: 6\n",
      "Count: 7\n",
      "Count: 8\n",
      "Count: 9\n"
     ]
    }
   ],
   "source": [
    "# A for loop is used for iterating over a sequence (that is either a list, a tuple, a dictionary, a set, or a string).\n",
    "\n",
    "people = ['John', 'Paul', 'Sara', 'Susan']\n",
    "\n",
    "# Simple for loop\n",
    "for person in people:\n",
    "    print(f'Current Person: {person}')\n",
    "\n",
    "# Break\n",
    "for person in people:\n",
    "    if person == 'Sara':\n",
    "        break\n",
    "    print(f'Current Person: {person}')\n",
    "\n",
    "# Continue\n",
    "for person in people:\n",
    "    if person == 'Sara':\n",
    "        continue\n",
    "    print(f'Current Person: {person}')\n",
    "\n",
    "# range\n",
    "for i in range(len(people)):\n",
    "    print(people[i])\n",
    "\n",
    "for i in range(0, 11):\n",
    "    print(f'Number: {i}')\n",
    "\n",
    "# While loops execute a set of statements as long as a condition is true.\n",
    "count = 0\n",
    "while count < 10:\n",
    "    print(f'Count: {count}')\n",
    "    count += 1"
   ]
  },
  {
   "cell_type": "code",
   "execution_count": null,
   "metadata": {},
   "outputs": [],
   "source": [
    "# 11. Modules"
   ]
  },
  {
   "cell_type": "code",
   "execution_count": 69,
   "metadata": {},
   "outputs": [],
   "source": [
    "# ! pip install camelcase"
   ]
  },
  {
   "cell_type": "code",
   "execution_count": 70,
   "metadata": {},
   "outputs": [
    {
     "name": "stdout",
     "output_type": "stream",
     "text": [
      "2020-02-23 1582436157.0655324\n"
     ]
    }
   ],
   "source": [
    "# A module is basically a file containing a set of functions to include in your application. There are core python modules, modules you can install using the pip package manager (including Django) as well as custom modules\n",
    "\n",
    "# Core modules\n",
    "import datetime\n",
    "from datetime import date\n",
    "import time\n",
    "from time import time\n",
    "\n",
    "# today = datetime.date.today()\n",
    "today = date.today()\n",
    "timestamp = time()\n",
    "print(today,timestamp)\n",
    "\n",
    "# # Pip module\n",
    "# from camelcase import CamelCase\n",
    "# c = CamelCase()\n",
    "# # print(c.hump('hello there world'))"
   ]
  },
  {
   "cell_type": "code",
   "execution_count": 71,
   "metadata": {},
   "outputs": [],
   "source": [
    "# 12. Classes"
   ]
  },
  {
   "cell_type": "code",
   "execution_count": 3,
   "metadata": {},
   "outputs": [
    {
     "name": "stdout",
     "output_type": "stream",
     "text": [
      "My name is karan and I am 20 and my balance is 500\n",
      "My name is anu rung and I am 23\n"
     ]
    }
   ],
   "source": [
    "# A class is like a blueprint for creating objects. An object has properties and methods(functions) associated with it. Almost everything in Python is an object\n",
    "# A class is definition, and object is instance of that class\n",
    "\n",
    "# Create class\n",
    "class User:\n",
    "    # Constructor\n",
    "    def __init__(self, name, email, age):\n",
    "        self.name = name\n",
    "        self.email = email\n",
    "        self.age = age\n",
    "    \n",
    "    def greeting(self):\n",
    "        return f'My name is {self.name} and I am {self.age}'\n",
    "\n",
    "    def has_birthday(self):\n",
    "        self.age += 1\n",
    "\n",
    "\n",
    "# Extend class\n",
    "class Customer(User):\n",
    "  # Constructor\n",
    "    def __init__(self, name, email, age):\n",
    "        self.name = name\n",
    "        self.email = email\n",
    "        self.age = age\n",
    "        self.balance = 0\n",
    "\n",
    "    def set_balance(self, balance):\n",
    "        self.balance = balance\n",
    "\n",
    "    def greeting(self):\n",
    "        return f'My name is {self.name} and I am {self.age} and my balance is {self.balance}'\n",
    "\n",
    "#  Init user object\n",
    "anu = User('anu rung', 'annu@gmail.com', 22)\n",
    "# Init customer object\n",
    "karan = Customer('karan', 'karan@yahoo.com', 20)\n",
    "\n",
    "karan.set_balance(500)\n",
    "print(karan.greeting())\n",
    "\n",
    "anu.has_birthday()\n",
    "print(anu.greeting())"
   ]
  },
  {
   "cell_type": "code",
   "execution_count": 73,
   "metadata": {},
   "outputs": [],
   "source": [
    "#13. Files"
   ]
  },
  {
   "cell_type": "code",
   "execution_count": 8,
   "metadata": {},
   "outputs": [
    {
     "name": "stdout",
     "output_type": "stream",
     "text": [
      "Name:  myfile.txt\n",
      "Is Closed :  False\n",
      "Opening Mode:  w\n",
      "Wow Any Text Hi\n"
     ]
    }
   ],
   "source": [
    "# Python has functions for creating, reading, updating, and deleting files.\n",
    "\n",
    "# Open a file\n",
    "myFile = open('myfile.txt', 'w')\n",
    "\n",
    "# Get some info\n",
    "print('Name: ', myFile.name)\n",
    "print('Is Closed : ', myFile.closed)\n",
    "print('Opening Mode: ', myFile.mode)\n",
    "\n",
    "# Write to file\n",
    "myFile.write('Wow')\n",
    "myFile.write(' Any Text')\n",
    "myFile.close()\n",
    "\n",
    "# Append to file\n",
    "myFile = open('myfile.txt', 'a')\n",
    "myFile.write(' Hi')\n",
    "myFile.close()\n",
    "\n",
    "# Read from file\n",
    "myFile = open('myfile.txt', 'r+')\n",
    "text = myFile.read(100)\n",
    "print(text)"
   ]
  },
  {
   "cell_type": "code",
   "execution_count": 77,
   "metadata": {},
   "outputs": [],
   "source": [
    "# 14. JSON API"
   ]
  },
  {
   "cell_type": "code",
   "execution_count": 78,
   "metadata": {},
   "outputs": [
    {
     "name": "stdout",
     "output_type": "stream",
     "text": [
      "{\"make\": \"Ford\", \"model\": \"Mustang\", \"year\": 1970}\n"
     ]
    }
   ],
   "source": [
    "# JSON is commonly used with data APIS. Here how we can parse JSON into a Python dictionary\n",
    "\n",
    "import json\n",
    "\n",
    "#  Sample JSON\n",
    "userJSON = '{\"first_name\": \"Anu\", \"last_name\": \"Rung\", \"age\": 20}'\n",
    "\n",
    "# Parse to dict\n",
    "user = json.loads(userJSON)\n",
    "\n",
    "# print(user)\n",
    "# print(user['first_name'])\n",
    "\n",
    "car = {'make': 'Ford', 'model': 'Mustang', 'year': 1970}\n",
    "\n",
    "carJSON = json.dumps(car)\n",
    "\n",
    "print(carJSON)"
   ]
  },
  {
   "cell_type": "code",
   "execution_count": 1,
   "metadata": {},
   "outputs": [],
   "source": [
    "# 15. Eception handling\n",
    "# - report runtime errors"
   ]
  },
  {
   "cell_type": "code",
   "execution_count": 11,
   "metadata": {},
   "outputs": [
    {
     "name": "stdout",
     "output_type": "stream",
     "text": [
      "Error: unsupported operand type(s) for +=: 'int' and 'str'\n"
     ]
    }
   ],
   "source": [
    "import sys\n",
    "def calculate_expenditure(list_of_expenditure):\n",
    "    total=0\n",
    "    try:\n",
    "        for expenditure in list_of_expenditure:\n",
    "            total+=expenditure\n",
    "        print(\"Total:\",total)\n",
    "        avg=total/num_values\n",
    "        print(\"Average:\",avg)\n",
    "    except ZeroDivisionError:\n",
    "        print(\"Divide by Zero error\")\n",
    "    except:\n",
    "         print(f'Error: {sys.exc_info()[1]}')\n",
    "\n",
    "list_of_values=[100,200,300,\"400\",500]\n",
    "num_values=5\n",
    "calculate_expenditure(list_of_values)"
   ]
  },
  {
   "cell_type": "code",
   "execution_count": null,
   "metadata": {},
   "outputs": [],
   "source": []
  }
 ],
 "metadata": {
  "kernelspec": {
   "display_name": "Python 3",
   "language": "python",
   "name": "python3"
  },
  "language_info": {
   "codemirror_mode": {
    "name": "ipython",
    "version": 3
   },
   "file_extension": ".py",
   "mimetype": "text/x-python",
   "name": "python",
   "nbconvert_exporter": "python",
   "pygments_lexer": "ipython3",
   "version": "3.8.5"
  }
 },
 "nbformat": 4,
 "nbformat_minor": 2
}
